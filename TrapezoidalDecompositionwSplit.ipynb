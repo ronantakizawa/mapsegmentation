{
 "cells": [
  {
   "cell_type": "markdown",
   "id": "f57fc9cb-de96-4416-9d4a-93709839e37e",
   "metadata": {},
   "source": [
    "This notebook makes it possible to detect which trapaziodal region a point is on a plane in O(Log(N)) time. The underlining data structure used is a Segment Tree. A Segment Tree is a balanced binary tree in which each node directs down to a child node allowing for speedy traversal.  \n",
    "\n",
    "This is how it works:\n",
    "1. In each polygonal section of a 2d graph, a region is marked as r(k)\n",
    "2. Then at each vertex of the graph, a vertical line is drawn spanning the entire plane.\n",
    "3. These vertical lines split the graph into \"segments\" where each segment contains a stack of edges that do not intersect\n",
    "4. A preliminary segment tree is constructed which stores the range of each segment on the x-axis as an array of leaf nodes\n",
    "5. The parent nodes of this preliminary tree store the total range of their children\n",
    "6. We can traverse this tree by comparing the x value of our query point to the midpoint. If less than we go to the left, else we go to the right.\n",
    "7. Once we reach a leaf note we then traverse through a sub segment tree which stores all of the edges in a given segment\n",
    "8. We then traverse through the sub tree by comparing our query point the middle edge and determining if it is above or below.\n",
    "9. Finaly we reach a sub tree leaf node \n",
    "10. This node stores an edge in a segment and, more importantly, the region above it which tells us which region a query point is in."
   ]
  },
  {
   "cell_type": "code",
   "execution_count": 109,
   "id": "f8076689-80f4-4d9b-b191-990bbd4acc80",
   "metadata": {
    "tags": []
   },
   "outputs": [],
   "source": [
    "import shapely\n",
    "import matplotlib\n",
    "import matplotlib.pyplot as plt\n",
    "import numpy as np\n",
    "\n",
    "import random\n",
    "\n",
    "\n",
    "from shapely.geometry import Polygon, LineString"
   ]
  },
  {
   "cell_type": "raw",
   "id": "4a111568-daf3-4b23-9810-b30ccbc5d8dd",
   "metadata": {},
   "source": [
    "---- GENERATING RANDOM MAPS ----"
   ]
  },
  {
   "cell_type": "code",
   "execution_count": 110,
   "id": "901edb2b-a298-4711-b3e4-678c1f2eab9d",
   "metadata": {
    "tags": []
   },
   "outputs": [],
   "source": [
    "def randPoly(points):\n",
    "    \n",
    "    while True:\n",
    "    \n",
    "        coor = [(random.uniform(0,100000), random.uniform(0,100000)) for _ in range(points)]\n",
    "\n",
    "        coor.append(coor[0])\n",
    "\n",
    "\n",
    "        p1 = Polygon(coor)\n",
    "\n",
    "        if all(not p1.intersects(p2) for p2 in polygons):\n",
    "                polygons.append(p1)\n",
    "\n",
    "                return p1"
   ]
  },
  {
   "cell_type": "markdown",
   "id": "a8b78dde-18fd-4365-9e1a-6377ee738766",
   "metadata": {},
   "source": [
    "---- NODES ----"
   ]
  },
  {
   "cell_type": "code",
   "execution_count": 111,
   "id": "2eb7c239-8d0f-4864-bd14-66922f08fddc",
   "metadata": {
    "tags": []
   },
   "outputs": [],
   "source": [
    "class Node(object):\n",
    "    \n",
    "    def __init__(self, value):\n",
    "        # value should be tuple\n",
    "        self.v = value\n",
    "        # left child of node\n",
    "        self.lc = None\n",
    "        # right child of node\n",
    "        self.rc = None\n",
    "        # parent of node\n",
    "        self.p = None\n",
    "        \n",
    "    def evaluatePoint(self, x, y, comps = 0):\n",
    "        comps += 1\n",
    "        # Traverse tree until reaching a leaf node. \n",
    "        if self.lc is None:\n",
    "            # Now traverse subtree\n",
    "            return self.subtree.evaluatePoint(x,y, comps)\n",
    "        \n",
    "        # QUESTION FOR CORY: what to do if we have point which is on an \n",
    "        # edge, vertex, or vertical line\n",
    "        if self.midpoint() >= x:\n",
    "            return self.lc.evaluatePoint(x,y, comps)\n",
    "        elif self.rc is not None:\n",
    "            return self.rc.evaluatePoint(x,y, comps)\n",
    "        else:\n",
    "            return None\n",
    "        \n",
    "    # to create a parent node, add the range of lc to rc\n",
    "    def calculate(self):\n",
    "        if self.lc is not None:\n",
    "            self.v = self.lc.v\n",
    "        if self.rc is not None:\n",
    "            self.v = (self.v[0], self.rc.v[1])\n",
    "        # recursivly update tree\n",
    "        if self.p is not None:\n",
    "            self.p.calculate()\n",
    "            \n",
    "    def midpoint(self):\n",
    "        return (self.v[0] + self.v[1]) / 2\n",
    "    "
   ]
  },
  {
   "cell_type": "code",
   "execution_count": 112,
   "id": "a8904217-96da-4fce-a18b-d1cf55814e9b",
   "metadata": {
    "tags": []
   },
   "outputs": [],
   "source": [
    "# Leaf node for the primary tree\n",
    "class L_Node(Node):\n",
    "    \n",
    "    def __init__(self, chords, subtree):\n",
    "        \n",
    "        super().__init__(chords)\n",
    "        \n",
    "        # Subtree is another Segment Tree that calculates region which the point resides\n",
    "        self.subtree = subtree\n",
    "    "
   ]
  },
  {
   "cell_type": "code",
   "execution_count": 113,
   "id": "0bb315f3-f781-47d1-b7e4-6a89705eac9a",
   "metadata": {
    "tags": []
   },
   "outputs": [],
   "source": [
    "# This method is re-used in testing so I brought it out\n",
    "def pointBelowEdge(v1, v2, x, y):\n",
    "    # Calculate if the point is below the edge\n",
    "        # Calculate the slope of edge\n",
    "        m = (v2[1] - v1[1]) / (v2[0] - v1[0])\n",
    "\n",
    "        # Calculate the y-intercept from p1\n",
    "        b = v1[1] - m * v1[0]\n",
    "\n",
    "        # At x, where is the edge?\n",
    "        edge_at_x = m * x + b\n",
    "\n",
    "        # Check if y is below the edge at x\n",
    "        return y < edge_at_x\n",
    "    \n",
    "\n",
    "# Sub Tree Parent node\n",
    "class SP_Node(Node):\n",
    "    \n",
    "    def evaluatePoint(self, x, y, comps):\n",
    "        comps += 1\n",
    "        \n",
    "        # Check if leaf node\n",
    "        if self.lc is None:\n",
    "            print(\"Segment\", self.v)\n",
    "            return (self.r, comps)\n",
    "        \n",
    "        if pointBelowEdge(self.v[0], self.v[1], x, y):\n",
    "            return self.lc.evaluatePoint(x,y, comps)\n",
    "        elif self.rc is not None:\n",
    "            return self.rc.evaluatePoint(x,y, comps)\n",
    "        else:\n",
    "            return None\n",
    "        \n",
    "    \n",
    "    def calculate(self):\n",
    "        # check if node has a right child\n",
    "        if self.rc is not None:\n",
    "            # check if right child has a left child\n",
    "            if self.rc.lc is not None:\n",
    "                # set value of node to the left child of right child.\n",
    "                # This esentualy finds the midpoint in a segment\n",
    "                self.v = self.rc.lc.v\n",
    "            else:\n",
    "                # if no right child must be a layer 1 node \n",
    "                self.v = self.rc.v\n",
    "        else:\n",
    "            # must only have lc but must be parent bc of class\n",
    "            # node will be a coppy of its left child\n",
    "            self.v = self.lc.v"
   ]
  },
  {
   "cell_type": "code",
   "execution_count": 114,
   "id": "c21a56bb-73e1-49b9-b18c-6084bf5672fe",
   "metadata": {
    "tags": []
   },
   "outputs": [],
   "source": [
    "# Leaf node for the secondary segment tree or \"sub trees\"\n",
    "class SL_Node(SP_Node):\n",
    "    \n",
    "    def __init__(self, p1, p2, region):\n",
    "        \n",
    "        super().__init__((p1,p2))\n",
    "        \n",
    "        # store the region immediately above the edge\n",
    "        self.r = region\n",
    "    "
   ]
  },
  {
   "cell_type": "markdown",
   "id": "c8037f02-d8e7-4fc6-98ca-100425206324",
   "metadata": {},
   "source": [
    "---- SEGMENT TREES ----"
   ]
  },
  {
   "cell_type": "code",
   "execution_count": 115,
   "id": "b9689509-b929-472d-883e-77093be6f7bb",
   "metadata": {
    "tags": []
   },
   "outputs": [],
   "source": [
    "# The primary Segment Tree class is for the purpose of finding the \"segment\" or \n",
    "# region on the x axis where a specific point resides. Leaf nodes in this\n",
    "# tree store a range of x values and a subtree to find the 2d region where the\n",
    "# point resides.\n",
    "class SegmentTree():\n",
    "    \n",
    "    def __init__(self, arr):\n",
    "        # In order to create \n",
    "        self.leaves = arr\n",
    "        self.root = None\n",
    "        self.build()\n",
    "        \n",
    "    def allLeaves(self):\n",
    "        return [i.v for i in self.leaves]\n",
    "    \n",
    "    def evaluatePoint(self,x,y, comps = 0):\n",
    "        if self.root is not None:\n",
    "            region, comps = self.root.evaluatePoint(x,y,comps)\n",
    "            if region is not None:\n",
    "                return (region, comps)\n",
    "            else:\n",
    "                return \"This point is outside the graph\"\n",
    "        else:\n",
    "            print(\"no root\")\n",
    "        \n",
    "    def build(self):\n",
    "        layer = self.leaves\n",
    "        #loop through each layer of tree\n",
    "        while len(layer) > 1:\n",
    "            \n",
    "            next_layer = []\n",
    "\n",
    "            for i in range(0,len(layer), 2):\n",
    "                # create new parent node\n",
    "                parent = Node(layer[i].v)\n",
    "                # assign left child\n",
    "                parent.lc = layer[i]\n",
    "                \n",
    "                if len(layer) > i + 1:\n",
    "                    # assign right child and recompute sum\n",
    "                    parent.rc = layer[i + 1]\n",
    "                    parent.calculate()\n",
    "                    layer[i + 1].p = parent\n",
    "\n",
    "                layer[i].p = parent\n",
    "                \n",
    "                # move to next layer\n",
    "                next_layer.append(parent)\n",
    "                \n",
    "            layer = next_layer\n",
    "        \n",
    "        self.root = layer[0]\n",
    "        "
   ]
  },
  {
   "cell_type": "code",
   "execution_count": 116,
   "id": "5925d3ef-fc45-4a9f-b8dc-56d919bfe930",
   "metadata": {
    "tags": []
   },
   "outputs": [],
   "source": [
    "# The secondary segment tree or \"sub tree\" is responsible for evaluating\n",
    "# which region which a given point is in on the y axis\n",
    "class SubTree(SegmentTree):\n",
    "    \n",
    "    def build(self):\n",
    "        layer = self.leaves\n",
    "        #loop through each layer of tree\n",
    "        while len(layer) > 1:\n",
    "            \n",
    "            next_layer = []\n",
    "\n",
    "            for i in range(0,len(layer), 2):\n",
    "                # create new parent node\n",
    "                parent = SP_Node(layer[i].v)\n",
    "                # assign left child\n",
    "                parent.lc = layer[i]\n",
    "                \n",
    "                if len(layer) > i + 1:\n",
    "                    # assign right child and recompute sum\n",
    "                    parent.rc = layer[i + 1]\n",
    "                    parent.calculate()\n",
    "                    layer[i + 1].p = parent\n",
    "\n",
    "                layer[i].p = parent\n",
    "                \n",
    "                # move to next layer\n",
    "                next_layer.append(parent)\n",
    "                \n",
    "            layer = next_layer\n",
    "        \n",
    "        self.root = layer[0]"
   ]
  },
  {
   "cell_type": "code",
   "execution_count": 117,
   "id": "fd4ca597-82d0-4e81-90c4-cca0e3e3e167",
   "metadata": {
    "tags": []
   },
   "outputs": [],
   "source": [
    "# class for testing that overrides all the segment tree stuff and just loops through arrays\n",
    "class JustArrays(SegmentTree):\n",
    "    \n",
    "    def evaluatePoint(self, x, y):\n",
    "        \n",
    "        comps = 0\n",
    "        \n",
    "        # loop through all segments\n",
    "        for segment in self.leaves:\n",
    "            comps += 1\n",
    "            if x < segment.v[1] and x > segment.v[0]:\n",
    "                # loop through all edges in segment starting at top instead of bottom\n",
    "                for edge in segment.subtree.leaves[::-1]:\n",
    "                    comps += 1\n",
    "                    if not pointBelowEdge(edge.v[0],edge.v[1], x, y):\n",
    "                        print(\"JUST ARRAYS\", edge.v)\n",
    "                        return (edge.r, comps)\n",
    "                \n",
    "    \n",
    "    def build(self):\n",
    "        pass\n",
    "        "
   ]
  },
  {
   "cell_type": "markdown",
   "id": "c0eec512-db3a-408d-98e6-fce0cbd1a647",
   "metadata": {},
   "source": [
    "---- SPLITTING METHOD ----"
   ]
  },
  {
   "cell_type": "code",
   "execution_count": 118,
   "id": "62cd952e-ba11-45e4-93f0-3ebb291e8d84",
   "metadata": {
    "tags": []
   },
   "outputs": [],
   "source": [
    "class Poly():\n",
    "    \n",
    "    def __init__(self, poly, region):\n",
    "        self.p = poly\n",
    "        self.r = region\n",
    "        # Get all the edges\n",
    "        b = poly.boundary.coords\n",
    "        self.edges = [(b[k:k+2]) for k in range(len(b) - 1)]\n",
    "        self.calculate()\n",
    "        \n",
    "    def calculate(self):\n",
    "        # Modify the edges by switching points if necessary\n",
    "        modified_edges = []\n",
    "        for coords in self.edges:\n",
    "            if coords[0][0] > coords[1][0]:\n",
    "                coords[0], coords[1] = coords[1], coords[0]\n",
    "            modified_edges.append(coords)\n",
    "\n",
    "        # Sort the modified edges\n",
    "        sorted_edges = sorted(modified_edges, key=lambda edge: (edge[0][0], edge[0][1], edge[1][1]))\n",
    "        \n",
    "        # Extract the unique vertices\n",
    "        vertices = set()\n",
    "        for edge in sorted_edges:\n",
    "            vertices.update(edge)\n",
    "\n",
    "        # Convert the vertices set to a list and sort it by x and y values\n",
    "        self.vertices = sorted(vertices, key=lambda vertex: (vertex[0], vertex[1]))\n",
    "        \n",
    "        # Remove the vertical edges as they are not needed\n",
    "        self.edges = [edge for edge in sorted_edges if edge[0][0] != edge[1][0]]\n",
    "        \n",
    "    def allEdges(self):\n",
    "        # Label each edge with the region above it\n",
    "        labels = [self.r if i % 2 == 0 else None for i in range(len(self.edges))]\n",
    "        return [edge + [label] for edge, label in zip(self.edges, labels)]\n",
    "\n",
    "    def split(self,points):\n",
    "        will_split = []\n",
    "        \n",
    "        for x in points:\n",
    "            for i in range(len(self.edges)):\n",
    "                if self.edges[i][0][0] < x and self.edges[i][1][0] > x:\n",
    "                    will_split.append((i,x))\n",
    "\n",
    "        i = 0\n",
    "        while len(will_split) > 0:\n",
    "            edge = will_split.pop(0)\n",
    "            idx = edge[0] + i\n",
    "            p1 = self.edges[idx][0]\n",
    "            p2 = self.edges[idx][1]\n",
    "\n",
    "            m = (p2[1] - p1[1]) / (p2[0] - p1[0])\n",
    "\n",
    "            # Calculate the y-intercept from p1\n",
    "            b = p1[1] - m * p1[0]\n",
    "\n",
    "            # At x, where is the edge?\n",
    "            y = m * edge[1] + b\n",
    "\n",
    "            # split edge at x\n",
    "            # print(self.edges[i][0])\n",
    "            self.edges[idx] = [p1,(edge[1], y)]\n",
    "            self.edges.insert(idx+1, [(edge[1], y), p2])\n",
    "            \n",
    "            i += 1\n",
    "        \n",
    "        print(self.edges)\n",
    "        \n",
    "        self.calculate()\n",
    "\n",
    "\n"
   ]
  },
  {
   "cell_type": "markdown",
   "id": "54f64c19-c29a-4a69-a5a6-f18756996d6e",
   "metadata": {},
   "source": [
    "---- PERFORMANCE ANALYSIS ----"
   ]
  },
  {
   "cell_type": "code",
   "execution_count": 120,
   "id": "a0770b9c-1696-423e-b4ed-68b772482d44",
   "metadata": {
    "tags": []
   },
   "outputs": [
    {
     "name": "stdout",
     "output_type": "stream",
     "text": [
      "[(32929.44740975169, 13414.928934493042), (24819.54418786315, 46449.26483873338), (11034.728349299794, 64523.53820566348), (32929.44740975169, 13414.928934493042)]\n",
      "[(96963.7722426505, 8617.77914407753), (88723.59049821616, 50630.620759692116), (33793.016524131934, 5510.4909458730035), (96963.7722426505, 8617.77914407753)]\n",
      "[(1655.9504464718655, 86572.90403255683), (38621.00401234436, 70208.62513079302), (46421.42857606734, 49584.32767209892), (1655.9504464718655, 86572.90403255683)]\n",
      "[(58192.30095475053, 42440.49602538979), (73926.61062790581, 48601.82996064778), (53935.73532489128, 97444.9184860604), (58192.30095475053, 42440.49602538979)]\n",
      "[(78098.01482463663, 82129.47301617768), (80905.50379170758, 92124.63557805266), (94437.10974571008, 56685.4345579538), (78098.01482463663, 82129.47301617768)]\n",
      "[(38663.86964388607, 16871.876057147205), (84954.19959117002, 52353.615763392816), (39315.75961925433, 12851.869831489283), (38663.86964388607, 16871.876057147205)]\n",
      "[(31319.14060117629, 6928.648817535377), (26295.4287689247, 1330.3201669384034), (13769.95877267726, 42591.71919408564), (31319.14060117629, 6928.648817535377)]\n",
      "Created Regions:\n",
      "([(1655.9504464718655, 86572.90403255683), (38621.00401234436, 70208.62513079302)], 'r1')\n",
      "([(46421.42857606734, 49584.32767209892), (1655.9504464718655, 86572.90403255683)], 'r2')\n",
      "([(24819.54418786315, 46449.26483873338), (11034.728349299794, 64523.53820566348)], 'r3')\n",
      "([(11034.728349299794, 64523.53820566348), (32929.44740975169, 13414.928934493042)], 'r4')\n",
      "([(26295.4287689247, 1330.3201669384034), (13769.95877267726, 42591.71919408564)], 'r5')\n",
      "([(13769.95877267726, 42591.71919408564), (31319.14060117629, 6928.648817535377)], 'r6')\n",
      "([(32929.44740975169, 13414.928934493042), (24819.54418786315, 46449.26483873338)], 'r7')\n",
      "([(24819.54418786315, 46449.26483873338), (11034.728349299794, 64523.53820566348)], 'r8')\n",
      "([(31319.14060117629, 6928.648817535377), (26295.4287689247, 1330.3201669384034)], 'r9')\n",
      "([(26295.4287689247, 1330.3201669384034), (13769.95877267726, 42591.71919408564)], 'r10')\n",
      "([(31319.14060117629, 6928.648817535377), (26295.4287689247, 1330.3201669384034)], 'r11')\n",
      "([(13769.95877267726, 42591.71919408564), (31319.14060117629, 6928.648817535377)], 'r12')\n",
      "([(32929.44740975169, 13414.928934493042), (24819.54418786315, 46449.26483873338)], 'r13')\n",
      "([(11034.728349299794, 64523.53820566348), (32929.44740975169, 13414.928934493042)], 'r14')\n",
      "([(88723.59049821616, 50630.620759692116), (33793.016524131934, 5510.4909458730035)], 'r15')\n",
      "([(33793.016524131934, 5510.4909458730035), (96963.7722426505, 8617.77914407753)], 'r16')\n",
      "([(1655.9504464718655, 86572.90403255683), (38621.00401234436, 70208.62513079302)], 'r17')\n",
      "([(38621.00401234436, 70208.62513079302), (46421.42857606734, 49584.32767209892)], 'r18')\n",
      "([(38663.86964388607, 16871.876057147205), (84954.19959117002, 52353.615763392816)], 'r19')\n",
      "([(39315.75961925433, 12851.869831489283), (38663.86964388607, 16871.876057147205)], 'r20')\n",
      "([(84954.19959117002, 52353.615763392816), (39315.75961925433, 12851.869831489283)], 'r21')\n",
      "([(39315.75961925433, 12851.869831489283), (38663.86964388607, 16871.876057147205)], 'r22')\n",
      "([(38621.00401234436, 70208.62513079302), (46421.42857606734, 49584.32767209892)], 'r23')\n",
      "([(46421.42857606734, 49584.32767209892), (1655.9504464718655, 86572.90403255683)], 'r24')\n",
      "([(73926.61062790581, 48601.82996064778), (53935.73532489128, 97444.9184860604)], 'r25')\n",
      "([(53935.73532489128, 97444.9184860604), (58192.30095475053, 42440.49602538979)], 'r26')\n",
      "([(58192.30095475053, 42440.49602538979), (73926.61062790581, 48601.82996064778)], 'r27')\n",
      "([(53935.73532489128, 97444.9184860604), (58192.30095475053, 42440.49602538979)], 'r28')\n",
      "([(58192.30095475053, 42440.49602538979), (73926.61062790581, 48601.82996064778)], 'r29')\n",
      "([(73926.61062790581, 48601.82996064778), (53935.73532489128, 97444.9184860604)], 'r30')\n",
      "([(78098.01482463663, 82129.47301617768), (80905.50379170758, 92124.63557805266)], 'r31')\n",
      "([(94437.10974571008, 56685.4345579538), (78098.01482463663, 82129.47301617768)], 'r32')\n",
      "([(78098.01482463663, 82129.47301617768), (80905.50379170758, 92124.63557805266)], 'r33')\n",
      "([(80905.50379170758, 92124.63557805266), (94437.10974571008, 56685.4345579538)], 'r34')\n",
      "([(38663.86964388607, 16871.876057147205), (84954.19959117002, 52353.615763392816)], 'r35')\n",
      "([(84954.19959117002, 52353.615763392816), (39315.75961925433, 12851.869831489283)], 'r36')\n",
      "([(96963.7722426505, 8617.77914407753), (88723.59049821616, 50630.620759692116)], 'r37')\n",
      "([(88723.59049821616, 50630.620759692116), (33793.016524131934, 5510.4909458730035)], 'r38')\n",
      "([(80905.50379170758, 92124.63557805266), (94437.10974571008, 56685.4345579538)], 'r39')\n",
      "([(94437.10974571008, 56685.4345579538), (78098.01482463663, 82129.47301617768)], 'r40')\n",
      "([(96963.7722426505, 8617.77914407753), (88723.59049821616, 50630.620759692116)], 'r41')\n",
      "([(33793.016524131934, 5510.4909458730035), (96963.7722426505, 8617.77914407753)], 'r42')\n"
     ]
    },
    {
     "data": {
      "image/png": "[encoded data removed]",
      "text/plain": [
       "<Figure size 640x480 with 1 Axes>"
      ]
     },
     "metadata": {},
     "output_type": "display_data"
    }
   ],
   "source": [
    "\n",
    "polygons = []\n",
    "\n",
    "#----------------------------------------------------------------------------\n",
    "fig, ax = plt.subplots()\n",
    "\n",
    "#you can change the num of points here and add more shapes\n",
    "poly1 = randPoly(3)\n",
    "poly2 = randPoly(3)\n",
    "poly3 = randPoly(3)\n",
    "poly4 = randPoly(3)\n",
    "poly5 = randPoly(3)\n",
    "poly6 = randPoly(3)\n",
    "poly7 = randPoly(3)\n",
    "\n",
    "\n",
    "x1, y1 = poly1.exterior.xy\n",
    "x2, y2 = poly2.exterior.xy\n",
    "x3, y3 = poly3.exterior.xy\n",
    "x4, y4 = poly4.exterior.xy\n",
    "x5, y5 = poly5.exterior.xy\n",
    "x6, y6 = poly6.exterior.xy\n",
    "x7, y7 = poly7.exterior.xy\n",
    "\n",
    "ax.plot(x1, y1, label='District 1', color='red')\n",
    "ax.plot(x2, y2, label='District 2', color='blue')\n",
    "ax.plot(x3, y3, label='District 3', color='green')\n",
    "ax.plot(x4, y4, label='District 4', color='orange')\n",
    "ax.plot(x5, y5, label='District 5', color='purple')\n",
    "ax.plot(x6, y6, label='District 6', color='brown')\n",
    "ax.plot(x7, y7, label='District 7', color='pink')\n",
    "\n",
    "# x and y lables\n",
    "ax.set_xlabel('Latitude')\n",
    "ax.set_ylabel('Longitude')\n",
    "\n",
    "#legend different districts here\n",
    "ax.legend()\n",
    "\n",
    "#limits for the x axis\n",
    "ax.set_xlim(0, 100000)\n",
    "ax.set_ylim(0, 100000)\n",
    "all_vertices = []\n",
    "x_values = set()  # Use a set to store x values without duplicates\n",
    "\n",
    "lines = []  # List to store line segments\n",
    "\n",
    "\n",
    "for polygon in polygons:\n",
    "    x, y = polygon.exterior.xy\n",
    "    vertices = list(zip(x, y))\n",
    "    all_vertices.extend(vertices)\n",
    "    x_values.update(x)  # Use the 'update' method to add x values to the set\n",
    "\n",
    "    # Extract line segments and add them to the 'lines' list\n",
    "    print(vertices)\n",
    "    for i in range(len(vertices) - 1):\n",
    "        line = [vertices[i], vertices[i + 1]]\n",
    "        lines.append(line)\n",
    "\n",
    "x_values = sorted(list(x_values))  # Convert the set back to a sorted list\n",
    "\n",
    "blocks = {}  # Dictionary to store lines in each block\n",
    "\n",
    "for x in x_values:\n",
    "    ax.plot([x, x], [0, 100000], color='black')  # Draw a line from each vertex to the bottom\n",
    "    block_lines = [line for line in lines if any(p[0] == x or p[1] == x for p in line)]\n",
    "    blocks[x] = block_lines\n",
    "\n",
    "segments = []  # List to store all segments in map\n",
    "regions = []\n",
    "\n",
    "regionCounter = 0\n",
    "prev_x = 0\n",
    "# Create Region objects for each line within block_lines\n",
    "for x, block_lines in blocks.items():\n",
    "    segment = []\n",
    "    for line in block_lines:\n",
    "        regionCounter +=1\n",
    "        # Generate a random regionName\n",
    "        region_name = \"r\"+str(regionCounter)\n",
    "        edge = SL_Node(line[0],line[1],region_name)\n",
    "        segment.append(edge)\n",
    "        region = (line,region_name)\n",
    "        regions.append(region)\n",
    "    subtree = SubTree(segment)\n",
    "    segments.append(L_Node((prev_x,x), subtree))\n",
    "    prev_x = x\n",
    "        \n",
    "# Print the created regions\n",
    "print(\"Created Regions:\")\n",
    "for region in regions:\n",
    "    print(f\"{region}\")\n",
    "\n",
    "plt.grid()\n",
    "\n",
    "plt.show()"
   ]
  },
  {
   "cell_type": "code",
   "execution_count": 125,
   "id": "986d3835-db2a-4552-bc83-d60243a5c36b",
   "metadata": {
    "tags": []
   },
   "outputs": [
    {
     "name": "stdout",
     "output_type": "stream",
     "text": [
      "Segment ((39315.75961925433, 12851.869831489283), (38663.86964388607, 16871.876057147205))\n",
      "('r20', 8)\n",
      "None\n"
     ]
    }
   ],
   "source": [
    "st = SegmentTree(segments)\n",
    "print(st.evaluatePoint(40000,40000))\n",
    "\n",
    "test = JustArrays(segments)\n",
    "print(test.evaluatePoint(40000,40000))"
   ]
  },
  {
   "cell_type": "code",
   "execution_count": 130,
   "id": "83a81eb7-ce40-4e57-a4d9-93b0213b4f07",
   "metadata": {
    "tags": []
   },
   "outputs": [
    {
     "name": "stdout",
     "output_type": "stream",
     "text": [
      "Segment ((78098.01482463663, 82129.47301617768), (80905.50379170758, 92124.63557805266))\n",
      "('r33', 8)\n",
      "JUST ARRAYS ((58192.30095475053, 42440.49602538979), (73926.61062790581, 48601.82996064778))\n",
      "('r29', 17)\n"
     ]
    }
   ],
   "source": [
    "st = SegmentTree(segments)\n",
    "print(st.evaluatePoint(60000,50000))\n",
    "\n",
    "test = JustArrays(segments)\n",
    "print(test.evaluatePoint(60000,50000))"
   ]
  },
  {
   "cell_type": "code",
   "execution_count": 131,
   "id": "c1d3c0e6-e1e6-4687-943f-826907cc2293",
   "metadata": {
    "tags": []
   },
   "outputs": [
    {
     "name": "stdout",
     "output_type": "stream",
     "text": [
      "Segment ((11034.728349299794, 64523.53820566348), (32929.44740975169, 13414.928934493042))\n",
      "('r14', 8)\n",
      "JUST ARRAYS ((13769.95877267726, 42591.71919408564), (31319.14060117629, 6928.648817535377))\n",
      "('r12', 7)\n"
     ]
    }
   ],
   "source": [
    "st = SegmentTree(segments)\n",
    "print(st.evaluatePoint(30000,80000))\n",
    "\n",
    "test = JustArrays(segments)\n",
    "print(test.evaluatePoint(30000,80000))"
   ]
  },
  {
   "cell_type": "code",
   "execution_count": 133,
   "id": "10a5dbc9-b4e2-4983-972e-044f15e19322",
   "metadata": {
    "tags": []
   },
   "outputs": [
    {
     "name": "stdout",
     "output_type": "stream",
     "text": [
      "Segment ((11034.728349299794, 64523.53820566348), (32929.44740975169, 13414.928934493042))\n",
      "('r4', 8)\n",
      "JUST ARRAYS ((11034.728349299794, 64523.53820566348), (32929.44740975169, 13414.928934493042))\n",
      "('r4', 3)\n"
     ]
    }
   ],
   "source": [
    "st = SegmentTree(segments)\n",
    "print(st.evaluatePoint(10000,100000))\n",
    "\n",
    "test = JustArrays(segments)\n",
    "print(test.evaluatePoint(10000,100000))"
   ]
  },
  {
   "cell_type": "code",
   "execution_count": 142,
   "id": "89f09e8a-0674-4ffe-a0c4-cc98d44b1db3",
   "metadata": {
    "tags": []
   },
   "outputs": [
    {
     "name": "stdout",
     "output_type": "stream",
     "text": [
      "Segment ((1655.9504464718655, 86572.90403255683), (38621.00401234436, 70208.62513079302))\n",
      "('r1', 8)\n",
      "None\n"
     ]
    }
   ],
   "source": [
    "st = SegmentTree(segments)\n",
    "print(st.evaluatePoint(0,0))\n",
    "\n",
    "test = JustArrays(segments)\n",
    "print(test.evaluatePoint(0,0))"
   ]
  },
  {
   "cell_type": "code",
   "execution_count": 143,
   "id": "d4d83fee-937a-443e-8de8-cfcd05e53c42",
   "metadata": {
    "tags": []
   },
   "outputs": [
    {
     "name": "stdout",
     "output_type": "stream",
     "text": [
      "Segment ((78098.01482463663, 82129.47301617768), (80905.50379170758, 92124.63557805266))\n",
      "('r33', 8)\n",
      "None\n"
     ]
    }
   ],
   "source": [
    "st = SegmentTree(segments)\n",
    "print(st.evaluatePoint(50650,95000))\n",
    "\n",
    "test = JustArrays(segments)\n",
    "print(test.evaluatePoint(50650,95000))"
   ]
  },
  {
   "cell_type": "code",
   "execution_count": 147,
   "id": "eeea2c36-d15f-43b2-bbe9-d85a952423e3",
   "metadata": {
    "tags": []
   },
   "outputs": [
    {
     "name": "stdout",
     "output_type": "stream",
     "text": [
      "Segment ((78098.01482463663, 82129.47301617768), (80905.50379170758, 92124.63557805266))\n",
      "('r33', 8)\n",
      "None\n"
     ]
    }
   ],
   "source": [
    "st = SegmentTree(segments)\n",
    "print(st.evaluatePoint(75000,250))\n",
    "\n",
    "test = JustArrays(segments)\n",
    "print(test.evaluatePoint(75000,250))"
   ]
  },
  {
   "cell_type": "code",
   "execution_count": 150,
   "id": "b99e8deb-d697-45f2-88de-ef4376cf633b",
   "metadata": {
    "tags": []
   },
   "outputs": [
    {
     "name": "stdout",
     "output_type": "stream",
     "text": [
      "Segment ((13769.95877267726, 42591.71919408564), (31319.14060117629, 6928.648817535377))\n",
      "('r6', 8)\n",
      "JUST ARRAYS ((24819.54418786315, 46449.26483873338), (11034.728349299794, 64523.53820566348))\n",
      "('r8', 5)\n"
     ]
    }
   ],
   "source": [
    "st = SegmentTree(segments)\n",
    "print(st.evaluatePoint(15000,80000))\n",
    "\n",
    "test = JustArrays(segments)\n",
    "print(test.evaluatePoint(15000,80000))"
   ]
  },
  {
   "cell_type": "code",
   "execution_count": 166,
   "id": "07b059de-b2be-4735-89cb-81cc849b92c6",
   "metadata": {
    "tags": []
   },
   "outputs": [
    {
     "name": "stdout",
     "output_type": "stream",
     "text": [
      "Segment ((24819.54418786315, 46449.26483873338), (11034.728349299794, 64523.53820566348))\n",
      "('r3', 8)\n",
      "JUST ARRAYS ((13769.95877267726, 42591.71919408564), (31319.14060117629, 6928.648817535377))\n",
      "('r12', 7)\n"
     ]
    }
   ],
   "source": [
    "st = SegmentTree(segments)\n",
    "print(st.evaluatePoint(8900,8070))\n",
    "\n",
    "test = JustArrays(segments)\n",
    "print(test.evaluatePoint(30670,80345))"
   ]
  },
  {
   "cell_type": "code",
   "execution_count": 167,
   "id": "3f381b7c-f578-4397-9e1a-974a7a0d8b52",
   "metadata": {
    "tags": []
   },
   "outputs": [
    {
     "name": "stdout",
     "output_type": "stream",
     "text": [
      "Segment ((1655.9504464718655, 86572.90403255683), (38621.00401234436, 70208.62513079302))\n",
      "('r1', 8)\n",
      "None\n"
     ]
    }
   ],
   "source": [
    "st = SegmentTree(segments)\n",
    "print(st.evaluatePoint(55,40000))\n",
    "\n",
    "test = JustArrays(segments)\n",
    "print(test.evaluatePoint(30,8))"
   ]
  }
 ],
 "metadata": {
  "kernelspec": {
   "display_name": "Python 3 (ipykernel)",
   "language": "python",
   "name": "python3"
  },
  "language_info": {
   "codemirror_mode": {
    "name": "ipython",
    "version": 3
   },
   "file_extension": ".py",
   "mimetype": "text/x-python",
   "name": "python",
   "nbconvert_exporter": "python",
   "pygments_lexer": "ipython3",
   "version": "3.11.6"
  }
 },
 "nbformat": 4,
 "nbformat_minor": 5
}
